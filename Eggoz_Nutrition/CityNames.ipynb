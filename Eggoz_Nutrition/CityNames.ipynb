{
 "cells": [
  {
   "cell_type": "code",
   "execution_count": null,
   "metadata": {},
   "outputs": [],
   "source": [
    "!pip install geopy\n",
    "from geopy.geocoders import Bing\n",
    "import pandas as pd\n",
    "\n",
    "# load the data\n",
    "df = pd.read_csv(\"C:\\\\Users\\\\User\\\\Downloads\\\\Eggoz\\\\NCR Retailers2.csv\")\n",
    "df.head()\n",
    "\n",
    "df = df.dropna()\n",
    "\n",
    "\n",
    "\n",
    "API_KEY = \"AtEi89PbWUDFGvod4dsiaJPS0bRXlcYPefyXL7Csq0K_EF7v6QHpfZYi5UIAq-Ys\"  # Replace with your Bing Maps API key\n",
    "geolocator = Bing(API_KEY, user_agent=\"Location finder\")\n",
    "\n",
    "# Assuming df is your DataFrame with 'Latitude' and 'Longitude' columns\n",
    "\n",
    "\n",
    "def coordinates_to_address(latitude, longitude):\n",
    "    location = geolocator.reverse((latitude, longitude))\n",
    "    if location and hasattr(location, 'address'):\n",
    "        return location.address\n",
    "    else:\n",
    "        return None\n",
    "\n",
    "# Apply the function to create a new 'Address' column\n",
    "df['City Name '] = df['Address'].str.split(',').str[-3].str.strip()\n"
   ]
  }
 ],
 "metadata": {
  "language_info": {
   "name": "python"
  }
 },
 "nbformat": 4,
 "nbformat_minor": 2
}
