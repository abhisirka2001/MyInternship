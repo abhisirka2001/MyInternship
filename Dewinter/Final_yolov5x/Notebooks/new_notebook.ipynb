{
 "cells": [
  {
   "cell_type": "code",
   "execution_count": null,
   "metadata": {},
   "outputs": [],
   "source": [
    "#\n",
    "import pandas as pd\n",
    "#df = pd.DataFrame(PARAMS)\n",
    "# Convert columns to float type\n"
   ]
  },
  {
   "cell_type": "code",
   "execution_count": 29,
   "metadata": {},
   "outputs": [],
   "source": [
    "import matplotlib.pyplot as plt\n",
    "import cv2\n",
    "import numpy as  np\n",
    "import pandas as pd\n",
    "import os\n",
    "# Final Function for nucleus parameters and cytoplasm\n",
    "# Directory containing the images\n",
    "input_dir = \"C:\\\\Users\\\\User\\\\Downloads\\\\Dewinter2023\\\\Final_yolov5x\\\\BCCD\\\\JPEGImages\"\n",
    "imagename = []\n",
    "# List to store the processed images\n",
    "processed_images = []\n",
    "Nucleus_Areas = []\n",
    "Nucleus_Perimeters = []\n",
    "Area_hull = []\n",
    "Perimeter_hull = []\n",
    "def select_center_contour(contours):\n",
    "        if len(contours) == 0:\n",
    "            return None\n",
    "\n",
    "        # Compute the areas of all contours\n",
    "        contour_areas = [cv2.contourArea(contour) for contour in contours]\n",
    "\n",
    "        # Find the index of the contour with the largest area\n",
    "        max_area_index = np.argmax(contour_areas)\n",
    "\n",
    "        # Return the contour with the largest area\n",
    "        center_contour = contours[max_area_index]\n",
    "        area = cv2.contourArea(center_contour)\n",
    "        perimeter = cv2.arcLength(center_contour, True)\n",
    "        Nucleus_Areas.append(area)\n",
    "        Nucleus_Perimeters.append(perimeter)\n",
    "        imagename.append(filename)\n",
    "        return center_contour\n",
    "# Iterate over the images in the directory\n",
    "for filename in os.listdir(input_dir):\n",
    "    if filename.endswith(\".jpg\") or filename.endswith(\".png\"):\n",
    "        # Read the image\n",
    "        input_path = os.path.join(input_dir, filename)\n",
    "        image = cv2.imread(input_path)\n",
    "\n",
    "        # Perform the processing steps\n",
    "        # image = cv2.imread(input_path)\n",
    "        image_copy = image.copy()\n",
    "\n",
    "        # plt.imshow(blurM)\n",
    "\n",
    "        lab = cv2.cvtColor(image, cv2.COLOR_BGR2LAB)\n",
    "        img_hsv = cv2.cvtColor(lab, cv2.COLOR_BGR2HSV)\n",
    "\n",
    "        # Define the lower and upper bounds for the green color in the HSV color space\n",
    "        lower_green = np.array([40, 130, 170])\n",
    "        upper_green = np.array([90, 255, 255])\n",
    "\n",
    "       # Threshold the HSV image based on the color range\n",
    "        img_mask = cv2.inRange(img_hsv, lower_green, upper_green)\n",
    "        # plt.imshow(img_mask)\n",
    "        # Find contours in the thresholded image\n",
    "        contours, _ = cv2.findContours(\n",
    "            img_mask, cv2.RETR_EXTERNAL, cv2.CHAIN_APPROX_SIMPLE)\n",
    "\n",
    "\n",
    "        processed_images.append(img_mask)\n",
    "\n",
    "        # Select the center contour\n",
    "        center_contour = select_center_contour(contours)\n",
    "        if center_contour is not None:\n",
    "           convex_hull = cv2.convexHull(center_contour)\n",
    "           Area_hull.append(cv2.contourArea(convex_hull))\n",
    "           Perimeter_hull.append(cv2.arcLength(convex_hull, True))\n",
    "\n",
    "        # Check if a center contour was found\n",
    "       #if  center_contour is not None:\n",
    "        # Draw the center contour on the image\n",
    "        #cv2.drawContours(image_copy, [center_contour], -1, (0, 255, 0), 2)\n",
    "        #cv2.drawContours(image_copy, [convex_hull], -1, (0, 0, 255), 2)\n",
    "\n"
   ]
  },
  {
   "cell_type": "code",
   "execution_count": 30,
   "metadata": {},
   "outputs": [
    {
     "data": {
      "text/plain": [
       "<matplotlib.image.AxesImage at 0x251ffd374f0>"
      ]
     },
     "execution_count": 30,
     "metadata": {},
     "output_type": "execute_result"
    },
    {
     "data": {
      "image/png": "[encoded data removed]",
      "text/plain": [
       "<Figure size 640x480 with 1 Axes>"
      ]
     },
     "metadata": {},
     "output_type": "display_data"
    }
   ],
   "source": [
    "plt.imshow(processed_images[55])"
   ]
  },
  {
   "cell_type": "code",
   "execution_count": 5,
   "metadata": {},
   "outputs": [],
   "source": [
    "PARAMS = {\"IMAGE_NAME\":imagename, \"NUCLEUS_AREA\": Nucleus_Areas,\"NUCLEUS_PERIMETER\": Nucleus_Perimeters, \"CYTO_AREA\": Area_hull, \"CYTO_PERIMETER\": Perimeter_hull}"
   ]
  },
  {
   "cell_type": "code",
   "execution_count": 6,
   "metadata": {},
   "outputs": [],
   "source": [
    "df= pd.DataFrame(PARAMS)"
   ]
  },
  {
   "cell_type": "code",
   "execution_count": 8,
   "metadata": {},
   "outputs": [
    {
     "data": {
      "text/html": [
       "<div>\n",
       "<style scoped>\n",
       "    .dataframe tbody tr th:only-of-type {\n",
       "        vertical-align: middle;\n",
       "    }\n",
       "\n",
       "    .dataframe tbody tr th {\n",
       "        vertical-align: top;\n",
       "    }\n",
       "\n",
       "    .dataframe thead th {\n",
       "        text-align: right;\n",
       "    }\n",
       "</style>\n",
       "<table border=\"1\" class=\"dataframe\">\n",
       "  <thead>\n",
       "    <tr style=\"text-align: right;\">\n",
       "      <th></th>\n",
       "      <th>IMAGE_NAME</th>\n",
       "      <th>NUCLEUS_AREA</th>\n",
       "      <th>NUCLEUS_PERIMETER</th>\n",
       "      <th>CYTO_AREA</th>\n",
       "      <th>CYTO_PERIMETER</th>\n",
       "    </tr>\n",
       "  </thead>\n",
       "  <tbody>\n",
       "    <tr>\n",
       "      <th>0</th>\n",
       "      <td>20190527_113742_0_jpg.rf.4d4fa0a6fd1cc560df528...</td>\n",
       "      <td>2260.0</td>\n",
       "      <td>507.043718</td>\n",
       "      <td>3876.5</td>\n",
       "      <td>276.147269</td>\n",
       "    </tr>\n",
       "    <tr>\n",
       "      <th>1</th>\n",
       "      <td>20190527_113742_0_jpg.rf.d5180054f4317cd5d1c34...</td>\n",
       "      <td>18768.5</td>\n",
       "      <td>930.849846</td>\n",
       "      <td>25146.5</td>\n",
       "      <td>590.090352</td>\n",
       "    </tr>\n",
       "    <tr>\n",
       "      <th>2</th>\n",
       "      <td>20190527_114028_0_jpg.rf.b19407432a0e66b8b345a...</td>\n",
       "      <td>23.0</td>\n",
       "      <td>27.313708</td>\n",
       "      <td>32.0</td>\n",
       "      <td>25.464710</td>\n",
       "    </tr>\n",
       "    <tr>\n",
       "      <th>3</th>\n",
       "      <td>20190527_115225_0_jpg.rf.2d44924dc07ce5f59b214...</td>\n",
       "      <td>47230.0</td>\n",
       "      <td>1214.371706</td>\n",
       "      <td>52764.5</td>\n",
       "      <td>842.120576</td>\n",
       "    </tr>\n",
       "    <tr>\n",
       "      <th>4</th>\n",
       "      <td>20190527_115811_0_jpg.rf.15df06705b1342a37bd69...</td>\n",
       "      <td>6.0</td>\n",
       "      <td>11.656854</td>\n",
       "      <td>7.0</td>\n",
       "      <td>10.828427</td>\n",
       "    </tr>\n",
       "  </tbody>\n",
       "</table>\n",
       "</div>"
      ],
      "text/plain": [
       "                                          IMAGE_NAME  NUCLEUS_AREA  \\\n",
       "0  20190527_113742_0_jpg.rf.4d4fa0a6fd1cc560df528...        2260.0   \n",
       "1  20190527_113742_0_jpg.rf.d5180054f4317cd5d1c34...       18768.5   \n",
       "2  20190527_114028_0_jpg.rf.b19407432a0e66b8b345a...          23.0   \n",
       "3  20190527_115225_0_jpg.rf.2d44924dc07ce5f59b214...       47230.0   \n",
       "4  20190527_115811_0_jpg.rf.15df06705b1342a37bd69...           6.0   \n",
       "\n",
       "   NUCLEUS_PERIMETER  CYTO_AREA  CYTO_PERIMETER  \n",
       "0         507.043718     3876.5      276.147269  \n",
       "1         930.849846    25146.5      590.090352  \n",
       "2          27.313708       32.0       25.464710  \n",
       "3        1214.371706    52764.5      842.120576  \n",
       "4          11.656854        7.0       10.828427  "
      ]
     },
     "execution_count": 8,
     "metadata": {},
     "output_type": "execute_result"
    }
   ],
   "source": [
    "df.head()"
   ]
  },
  {
   "cell_type": "code",
   "execution_count": null,
   "metadata": {},
   "outputs": [],
   "source": [
    "df.iloc[:,1:] = df.iloc[:,1:].astype(float)\n",
    "\n",
    "df[\"cell_nucleus_area_r\"] = df.CELL_AREA/df.NUCLEUS_AREA\n",
    "df[\"cell_nucleus_peri_r\"] = df.CELL_PERIMETER/df.NUCLEUS_PERIMETER\n",
    "df[\"Solidity\"] = df.NUCLEUS_AREA/df.CYTO_AREA\n",
    "df[\"Convexity\"] = df.CYTO_PERIMETER/df.NUCLEUS_PERIMETER\n",
    "df[\"Circularity\"] = df.NUCLEUS_PERIMETER * df.NUCLEUS_PERIMETER/(4*np.pi*df.NUCLEUS_AREA)\n",
    "df[\"Cell_Type\"]=None\n",
    "df[\"Nucleus_area_upon_perimeter\"] = df[\"NUCLEUS_AREA\"]/df[\"NUCLEUS_PERIMETER\"]\n",
    "\n",
    "#df.drop([\"CELL_AREA\",\"CELL_PERIMETER\"],axis = 1, inplace=True)\n",
    "\n",
    "df.sort_values(\"Nucleus_area_upon_perimeter\")"
   ]
  },
  {
   "cell_type": "code",
   "execution_count": 50,
   "metadata": {},
   "outputs": [
    {
     "name": "stdout",
     "output_type": "stream",
     "text": [
      "utf-8\n"
     ]
    }
   ],
   "source": [
    "import pandas as pd\n",
    "\n",
    "# Try different encodings until the file is correctly decoded\n",
    "encodings = ['utf-8', 'latin-1', 'cp1252', 'iso-8859-1']\n",
    "for encoding in encodings:\n",
    "    try:\n",
    "        df = pd.read_csv('C:\\\\Users\\\\User\\\\Downloads\\\\Dewinter2023\\\\Final_yolov5x\\\\wbc_data.csv', encoding=encoding)\n",
    "        print(encoding)\n",
    "        break\n",
    "    except UnicodeDecodeError:\n",
    "        continue"
   ]
  },
  {
   "cell_type": "code",
   "execution_count": 58,
   "metadata": {},
   "outputs": [
    {
     "data": {
      "text/html": [
       "<div>\n",
       "<style scoped>\n",
       "    .dataframe tbody tr th:only-of-type {\n",
       "        vertical-align: middle;\n",
       "    }\n",
       "\n",
       "    .dataframe tbody tr th {\n",
       "        vertical-align: top;\n",
       "    }\n",
       "\n",
       "    .dataframe thead th {\n",
       "        text-align: right;\n",
       "    }\n",
       "</style>\n",
       "<table border=\"1\" class=\"dataframe\">\n",
       "  <thead>\n",
       "    <tr style=\"text-align: right;\">\n",
       "      <th></th>\n",
       "      <th>S.N</th>\n",
       "      <th>Labels</th>\n",
       "      <th>F1</th>\n",
       "      <th>F2</th>\n",
       "      <th>F3</th>\n",
       "      <th>F4</th>\n",
       "      <th>F5</th>\n",
       "      <th>F6</th>\n",
       "      <th>F7</th>\n",
       "      <th>F8</th>\n",
       "      <th>...</th>\n",
       "      <th>F42</th>\n",
       "      <th>F43</th>\n",
       "      <th>F44</th>\n",
       "      <th>F45</th>\n",
       "      <th>F46</th>\n",
       "      <th>F47</th>\n",
       "      <th>F48</th>\n",
       "      <th>F49</th>\n",
       "      <th>F50</th>\n",
       "      <th>F51</th>\n",
       "    </tr>\n",
       "  </thead>\n",
       "  <tbody>\n",
       "    <tr>\n",
       "      <th>0</th>\n",
       "      <td>1</td>\n",
       "      <td>4</td>\n",
       "      <td>0.998669</td>\n",
       "      <td>0.964651</td>\n",
       "      <td>0.984931</td>\n",
       "      <td>0.884154</td>\n",
       "      <td>0.995850</td>\n",
       "      <td>0.932902</td>\n",
       "      <td>1.00012</td>\n",
       "      <td>0.929843</td>\n",
       "      <td>...</td>\n",
       "      <td>1.836840</td>\n",
       "      <td>1.13666</td>\n",
       "      <td>0.502641</td>\n",
       "      <td>0.944199</td>\n",
       "      <td>0.657148</td>\n",
       "      <td>0.978494</td>\n",
       "      <td>1.760420</td>\n",
       "      <td>0.004786</td>\n",
       "      <td>0.939551</td>\n",
       "      <td>245.204</td>\n",
       "    </tr>\n",
       "    <tr>\n",
       "      <th>1</th>\n",
       "      <td>2</td>\n",
       "      <td>4</td>\n",
       "      <td>0.978787</td>\n",
       "      <td>0.851060</td>\n",
       "      <td>0.683255</td>\n",
       "      <td>0.259461</td>\n",
       "      <td>0.895572</td>\n",
       "      <td>0.682199</td>\n",
       "      <td>1.01701</td>\n",
       "      <td>0.653529</td>\n",
       "      <td>...</td>\n",
       "      <td>0.438285</td>\n",
       "      <td>1.18325</td>\n",
       "      <td>0.813150</td>\n",
       "      <td>0.958764</td>\n",
       "      <td>1.010510</td>\n",
       "      <td>1.025020</td>\n",
       "      <td>0.561364</td>\n",
       "      <td>0.025555</td>\n",
       "      <td>0.524963</td>\n",
       "      <td>158.854</td>\n",
       "    </tr>\n",
       "    <tr>\n",
       "      <th>2</th>\n",
       "      <td>3</td>\n",
       "      <td>4</td>\n",
       "      <td>1.003070</td>\n",
       "      <td>0.972615</td>\n",
       "      <td>0.912070</td>\n",
       "      <td>0.778764</td>\n",
       "      <td>0.990626</td>\n",
       "      <td>1.024890</td>\n",
       "      <td>1.00127</td>\n",
       "      <td>1.023190</td>\n",
       "      <td>...</td>\n",
       "      <td>0.553793</td>\n",
       "      <td>1.14963</td>\n",
       "      <td>0.414020</td>\n",
       "      <td>0.913237</td>\n",
       "      <td>0.209406</td>\n",
       "      <td>0.957298</td>\n",
       "      <td>0.507088</td>\n",
       "      <td>0.009233</td>\n",
       "      <td>0.766351</td>\n",
       "      <td>211.843</td>\n",
       "    </tr>\n",
       "    <tr>\n",
       "      <th>3</th>\n",
       "      <td>4</td>\n",
       "      <td>4</td>\n",
       "      <td>1.003840</td>\n",
       "      <td>0.594213</td>\n",
       "      <td>0.813871</td>\n",
       "      <td>0.311328</td>\n",
       "      <td>0.938251</td>\n",
       "      <td>0.470885</td>\n",
       "      <td>1.02158</td>\n",
       "      <td>0.290526</td>\n",
       "      <td>...</td>\n",
       "      <td>0.649827</td>\n",
       "      <td>1.07605</td>\n",
       "      <td>0.860965</td>\n",
       "      <td>0.960133</td>\n",
       "      <td>0.862213</td>\n",
       "      <td>1.002390</td>\n",
       "      <td>0.848396</td>\n",
       "      <td>0.024564</td>\n",
       "      <td>0.642194</td>\n",
       "      <td>125.242</td>\n",
       "    </tr>\n",
       "    <tr>\n",
       "      <th>4</th>\n",
       "      <td>5</td>\n",
       "      <td>4</td>\n",
       "      <td>1.003460</td>\n",
       "      <td>0.930368</td>\n",
       "      <td>0.912457</td>\n",
       "      <td>0.572494</td>\n",
       "      <td>0.989024</td>\n",
       "      <td>0.868442</td>\n",
       "      <td>1.00637</td>\n",
       "      <td>0.531452</td>\n",
       "      <td>...</td>\n",
       "      <td>1.118860</td>\n",
       "      <td>1.15033</td>\n",
       "      <td>1.183330</td>\n",
       "      <td>0.917949</td>\n",
       "      <td>1.145050</td>\n",
       "      <td>0.973160</td>\n",
       "      <td>1.053050</td>\n",
       "      <td>0.010256</td>\n",
       "      <td>0.710701</td>\n",
       "      <td>213.606</td>\n",
       "    </tr>\n",
       "  </tbody>\n",
       "</table>\n",
       "<p>5 rows × 53 columns</p>\n",
       "</div>"
      ],
      "text/plain": [
       "   S.N  Labels        F1        F2        F3        F4        F5        F6  \\\n",
       "0    1       4  0.998669  0.964651  0.984931  0.884154  0.995850  0.932902   \n",
       "1    2       4  0.978787  0.851060  0.683255  0.259461  0.895572  0.682199   \n",
       "2    3       4  1.003070  0.972615  0.912070  0.778764  0.990626  1.024890   \n",
       "3    4       4  1.003840  0.594213  0.813871  0.311328  0.938251  0.470885   \n",
       "4    5       4  1.003460  0.930368  0.912457  0.572494  0.989024  0.868442   \n",
       "\n",
       "        F7        F8  ...       F42      F43       F44       F45       F46  \\\n",
       "0  1.00012  0.929843  ...  1.836840  1.13666  0.502641  0.944199  0.657148   \n",
       "1  1.01701  0.653529  ...  0.438285  1.18325  0.813150  0.958764  1.010510   \n",
       "2  1.00127  1.023190  ...  0.553793  1.14963  0.414020  0.913237  0.209406   \n",
       "3  1.02158  0.290526  ...  0.649827  1.07605  0.860965  0.960133  0.862213   \n",
       "4  1.00637  0.531452  ...  1.118860  1.15033  1.183330  0.917949  1.145050   \n",
       "\n",
       "        F47       F48       F49       F50      F51  \n",
       "0  0.978494  1.760420  0.004786  0.939551  245.204  \n",
       "1  1.025020  0.561364  0.025555  0.524963  158.854  \n",
       "2  0.957298  0.507088  0.009233  0.766351  211.843  \n",
       "3  1.002390  0.848396  0.024564  0.642194  125.242  \n",
       "4  0.973160  1.053050  0.010256  0.710701  213.606  \n",
       "\n",
       "[5 rows x 53 columns]"
      ]
     },
     "execution_count": 58,
     "metadata": {},
     "output_type": "execute_result"
    }
   ],
   "source": [
    "df = pd.read_csv('C:\\\\Users\\\\User\\\\Downloads\\\\Dewinter2023\\\\Final_yolov5x\\\\wbc_data.csv', encoding=encoding)\n",
    "df.head()"
   ]
  },
  {
   "cell_type": "code",
   "execution_count": 52,
   "metadata": {},
   "outputs": [
    {
     "data": {
      "text/plain": [
       "Index(['S.N', 'Labels', 'F1', 'F2', 'F3', 'F4', 'F5', 'F6', 'F7', 'F8', 'F9',\n",
       "       'F10', 'F11', 'F12', 'F13', 'F14', 'F15', 'F16', 'F17', 'F18', 'F19',\n",
       "       'F20', 'F21', 'F22', 'F23', 'F24', 'F25', 'F26', 'F27', 'F28', 'F29',\n",
       "       'F30', 'F31', 'F32', 'F33', 'F34', 'F35', 'F36', 'F37', 'F38', 'F39',\n",
       "       'F40', 'F41', 'F42', 'F43', 'F44', 'F45', 'F46', 'F47', 'F48', 'F49',\n",
       "       'F50', 'F51'],\n",
       "      dtype='object')"
      ]
     },
     "execution_count": 52,
     "metadata": {},
     "output_type": "execute_result"
    }
   ],
   "source": [
    "df.columns"
   ]
  },
  {
   "cell_type": "code",
   "execution_count": 53,
   "metadata": {},
   "outputs": [],
   "source": [
    "X=df.iloc[:,2:]"
   ]
  },
  {
   "cell_type": "code",
   "execution_count": 54,
   "metadata": {},
   "outputs": [
    {
     "data": {
      "text/plain": [
       "0       4\n",
       "1       4\n",
       "2       4\n",
       "3       4\n",
       "4       4\n",
       "       ..\n",
       "2730    4\n",
       "2731    4\n",
       "2732    4\n",
       "2733    4\n",
       "2734    4\n",
       "Name: Labels, Length: 2735, dtype: int64"
      ]
     },
     "execution_count": 54,
     "metadata": {},
     "output_type": "execute_result"
    }
   ],
   "source": [
    "y=df[\"Labels\"]\n",
    "y"
   ]
  },
  {
   "cell_type": "code",
   "execution_count": 60,
   "metadata": {},
   "outputs": [
    {
     "name": "stdout",
     "output_type": "stream",
     "text": [
      "(2735,)\n"
     ]
    },
    {
     "name": "stderr",
     "output_type": "stream",
     "text": [
      "C:\\Users\\User\\AppData\\Roaming\\Python\\Python310\\site-packages\\sklearn\\cluster\\_kmeans.py:870: FutureWarning: The default value of `n_init` will change from 10 to 'auto' in 1.4. Set the value of `n_init` explicitly to suppress the warning\n",
      "  warnings.warn(\n"
     ]
    }
   ],
   "source": [
    "from sklearn.cluster import KMeans\n",
    "# Perform k-means clustering\n",
    "k = 4  # Number of clusters\n",
    "kmeans = KMeans(n_clusters=k)\n",
    "kmeans.fit(X)\n",
    "\n",
    "# Get the cluster labels\n",
    "labels = kmeans.labels_\n",
    "\n",
    "# Print the cluster labels\n",
    "print(labels.shape)"
   ]
  },
  {
   "cell_type": "code",
   "execution_count": 61,
   "metadata": {},
   "outputs": [
    {
     "name": "stderr",
     "output_type": "stream",
     "text": [
      "C:\\Users\\User\\AppData\\Roaming\\Python\\Python310\\site-packages\\sklearn\\cluster\\_kmeans.py:870: FutureWarning: The default value of `n_init` will change from 10 to 'auto' in 1.4. Set the value of `n_init` explicitly to suppress the warning\n",
      "  warnings.warn(\n",
      "C:\\Users\\User\\AppData\\Roaming\\Python\\Python310\\site-packages\\sklearn\\cluster\\_kmeans.py:870: FutureWarning: The default value of `n_init` will change from 10 to 'auto' in 1.4. Set the value of `n_init` explicitly to suppress the warning\n",
      "  warnings.warn(\n",
      "C:\\Users\\User\\AppData\\Roaming\\Python\\Python310\\site-packages\\sklearn\\cluster\\_kmeans.py:870: FutureWarning: The default value of `n_init` will change from 10 to 'auto' in 1.4. Set the value of `n_init` explicitly to suppress the warning\n",
      "  warnings.warn(\n",
      "C:\\Users\\User\\AppData\\Roaming\\Python\\Python310\\site-packages\\sklearn\\cluster\\_kmeans.py:870: FutureWarning: The default value of `n_init` will change from 10 to 'auto' in 1.4. Set the value of `n_init` explicitly to suppress the warning\n",
      "  warnings.warn(\n",
      "C:\\Users\\User\\AppData\\Roaming\\Python\\Python310\\site-packages\\sklearn\\cluster\\_kmeans.py:870: FutureWarning: The default value of `n_init` will change from 10 to 'auto' in 1.4. Set the value of `n_init` explicitly to suppress the warning\n",
      "  warnings.warn(\n",
      "C:\\Users\\User\\AppData\\Roaming\\Python\\Python310\\site-packages\\sklearn\\cluster\\_kmeans.py:870: FutureWarning: The default value of `n_init` will change from 10 to 'auto' in 1.4. Set the value of `n_init` explicitly to suppress the warning\n",
      "  warnings.warn(\n",
      "C:\\Users\\User\\AppData\\Roaming\\Python\\Python310\\site-packages\\sklearn\\cluster\\_kmeans.py:870: FutureWarning: The default value of `n_init` will change from 10 to 'auto' in 1.4. Set the value of `n_init` explicitly to suppress the warning\n",
      "  warnings.warn(\n",
      "C:\\Users\\User\\AppData\\Roaming\\Python\\Python310\\site-packages\\sklearn\\cluster\\_kmeans.py:870: FutureWarning: The default value of `n_init` will change from 10 to 'auto' in 1.4. Set the value of `n_init` explicitly to suppress the warning\n",
      "  warnings.warn(\n",
      "C:\\Users\\User\\AppData\\Roaming\\Python\\Python310\\site-packages\\sklearn\\cluster\\_kmeans.py:870: FutureWarning: The default value of `n_init` will change from 10 to 'auto' in 1.4. Set the value of `n_init` explicitly to suppress the warning\n",
      "  warnings.warn(\n"
     ]
    },
    {
     "data": {
      "image/png": "[encoded data removed]",
      "text/plain": [
       "<Figure size 640x480 with 1 Axes>"
      ]
     },
     "metadata": {},
     "output_type": "display_data"
    }
   ],
   "source": [
    "k_values = range(1, 10)  # Range of k values to test\n",
    "wcss = []  # Within-cluster sum of squares\n",
    "\n",
    "for k in k_values:\n",
    "    kmeans = KMeans(n_clusters=k)\n",
    "    kmeans.fit(X)\n",
    "    wcss.append(kmeans.inertia_)\n",
    "\n",
    "# Plot the WCSS for different k values\n",
    "plt.plot(k_values, wcss)\n",
    "plt.xlabel('Number of Clusters (k)')\n",
    "plt.ylabel('Within-Cluster Sum of Squares (WCSS)')\n",
    "plt.title('Elbow Method')\n",
    "plt.show()"
   ]
  },
  {
   "cell_type": "code",
   "execution_count": 55,
   "metadata": {},
   "outputs": [
    {
     "data": {
      "text/html": [
       "<style>#sk-container-id-2 {color: black;background-color: white;}#sk-container-id-2 pre{padding: 0;}#sk-container-id-2 div.sk-toggleable {background-color: white;}#sk-container-id-2 label.sk-toggleable__label {cursor: pointer;display: block;width: 100%;margin-bottom: 0;padding: 0.3em;box-sizing: border-box;text-align: center;}#sk-container-id-2 label.sk-toggleable__label-arrow:before {content: \"▸\";float: left;margin-right: 0.25em;color: #696969;}#sk-container-id-2 label.sk-toggleable__label-arrow:hover:before {color: black;}#sk-container-id-2 div.sk-estimator:hover label.sk-toggleable__label-arrow:before {color: black;}#sk-container-id-2 div.sk-toggleable__content {max-height: 0;max-width: 0;overflow: hidden;text-align: left;background-color: #f0f8ff;}#sk-container-id-2 div.sk-toggleable__content pre {margin: 0.2em;color: black;border-radius: 0.25em;background-color: #f0f8ff;}#sk-container-id-2 input.sk-toggleable__control:checked~div.sk-toggleable__content {max-height: 200px;max-width: 100%;overflow: auto;}#sk-container-id-2 input.sk-toggleable__control:checked~label.sk-toggleable__label-arrow:before {content: \"▾\";}#sk-container-id-2 div.sk-estimator input.sk-toggleable__control:checked~label.sk-toggleable__label {background-color: #d4ebff;}#sk-container-id-2 div.sk-label input.sk-toggleable__control:checked~label.sk-toggleable__label {background-color: #d4ebff;}#sk-container-id-2 input.sk-hidden--visually {border: 0;clip: rect(1px 1px 1px 1px);clip: rect(1px, 1px, 1px, 1px);height: 1px;margin: -1px;overflow: hidden;padding: 0;position: absolute;width: 1px;}#sk-container-id-2 div.sk-estimator {font-family: monospace;background-color: #f0f8ff;border: 1px dotted black;border-radius: 0.25em;box-sizing: border-box;margin-bottom: 0.5em;}#sk-container-id-2 div.sk-estimator:hover {background-color: #d4ebff;}#sk-container-id-2 div.sk-parallel-item::after {content: \"\";width: 100%;border-bottom: 1px solid gray;flex-grow: 1;}#sk-container-id-2 div.sk-label:hover label.sk-toggleable__label {background-color: #d4ebff;}#sk-container-id-2 div.sk-serial::before {content: \"\";position: absolute;border-left: 1px solid gray;box-sizing: border-box;top: 0;bottom: 0;left: 50%;z-index: 0;}#sk-container-id-2 div.sk-serial {display: flex;flex-direction: column;align-items: center;background-color: white;padding-right: 0.2em;padding-left: 0.2em;position: relative;}#sk-container-id-2 div.sk-item {position: relative;z-index: 1;}#sk-container-id-2 div.sk-parallel {display: flex;align-items: stretch;justify-content: center;background-color: white;position: relative;}#sk-container-id-2 div.sk-item::before, #sk-container-id-2 div.sk-parallel-item::before {content: \"\";position: absolute;border-left: 1px solid gray;box-sizing: border-box;top: 0;bottom: 0;left: 50%;z-index: -1;}#sk-container-id-2 div.sk-parallel-item {display: flex;flex-direction: column;z-index: 1;position: relative;background-color: white;}#sk-container-id-2 div.sk-parallel-item:first-child::after {align-self: flex-end;width: 50%;}#sk-container-id-2 div.sk-parallel-item:last-child::after {align-self: flex-start;width: 50%;}#sk-container-id-2 div.sk-parallel-item:only-child::after {width: 0;}#sk-container-id-2 div.sk-dashed-wrapped {border: 1px dashed gray;margin: 0 0.4em 0.5em 0.4em;box-sizing: border-box;padding-bottom: 0.4em;background-color: white;}#sk-container-id-2 div.sk-label label {font-family: monospace;font-weight: bold;display: inline-block;line-height: 1.2em;}#sk-container-id-2 div.sk-label-container {text-align: center;}#sk-container-id-2 div.sk-container {/* jupyter's `normalize.less` sets `[hidden] { display: none; }` but bootstrap.min.css set `[hidden] { display: none !important; }` so we also need the `!important` here to be able to override the default hidden behavior on the sphinx rendered scikit-learn.org. See: https://github.com/scikit-learn/scikit-learn/issues/21755 */display: inline-block !important;position: relative;}#sk-container-id-2 div.sk-text-repr-fallback {display: none;}</style><div id=\"sk-container-id-2\" class=\"sk-top-container\"><div class=\"sk-text-repr-fallback\"><pre>LinearRegression()</pre><b>In a Jupyter environment, please rerun this cell to show the HTML representation or trust the notebook. <br />On GitHub, the HTML representation is unable to render, please try loading this page with nbviewer.org.</b></div><div class=\"sk-container\" hidden><div class=\"sk-item\"><div class=\"sk-estimator sk-toggleable\"><input class=\"sk-toggleable__control sk-hidden--visually\" id=\"sk-estimator-id-2\" type=\"checkbox\" checked><label for=\"sk-estimator-id-2\" class=\"sk-toggleable__label sk-toggleable__label-arrow\">LinearRegression</label><div class=\"sk-toggleable__content\"><pre>LinearRegression()</pre></div></div></div></div></div>"
      ],
      "text/plain": [
       "LinearRegression()"
      ]
     },
     "execution_count": 55,
     "metadata": {},
     "output_type": "execute_result"
    }
   ],
   "source": [
    "from sklearn.linear_model import LinearRegression\n",
    "# Create a linear regression model\n",
    "model = LinearRegression()\n",
    "\n",
    "# Fit the model to the data\n",
    "model.fit(X, y)\n"
   ]
  },
  {
   "cell_type": "code",
   "execution_count": 56,
   "metadata": {},
   "outputs": [],
   "source": [
    "y_pred = model.predict(X)"
   ]
  },
  {
   "cell_type": "code",
   "execution_count": 62,
   "metadata": {},
   "outputs": [
    {
     "data": {
      "text/plain": [
       "array([2.30485074, 3.60040774, 3.11326532, ..., 4.17806788, 2.77660155,\n",
       "       3.17744684])"
      ]
     },
     "execution_count": 62,
     "metadata": {},
     "output_type": "execute_result"
    }
   ],
   "source": [
    "y_pred"
   ]
  },
  {
   "cell_type": "code",
   "execution_count": 64,
   "metadata": {},
   "outputs": [
    {
     "data": {
      "text/plain": [
       "0       4\n",
       "1       4\n",
       "2       4\n",
       "3       4\n",
       "4       4\n",
       "       ..\n",
       "2730    4\n",
       "2731    4\n",
       "2732    4\n",
       "2733    4\n",
       "2734    4\n",
       "Name: Labels, Length: 2735, dtype: int64"
      ]
     },
     "execution_count": 64,
     "metadata": {},
     "output_type": "execute_result"
    }
   ],
   "source": [
    "y"
   ]
  },
  {
   "cell_type": "code",
   "execution_count": null,
   "metadata": {},
   "outputs": [],
   "source": []
  }
 ],
 "metadata": {
  "kernelspec": {
   "display_name": "Python 3",
   "language": "python",
   "name": "python3"
  },
  "language_info": {
   "codemirror_mode": {
    "name": "ipython",
    "version": 3
   },
   "file_extension": ".py",
   "mimetype": "text/x-python",
   "name": "python",
   "nbconvert_exporter": "python",
   "pygments_lexer": "ipython3",
   "version": "3.10.0"
  },
  "orig_nbformat": 4
 },
 "nbformat": 4,
 "nbformat_minor": 2
}
